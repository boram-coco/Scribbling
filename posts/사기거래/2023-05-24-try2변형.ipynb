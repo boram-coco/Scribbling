{
 "cells": [
  {
   "cell_type": "raw",
   "id": "63d4b7a5-571d-4937-a522-2d3380655bfa",
   "metadata": {},
   "source": [
    "---\n",
    "title: \"사기거래(교수님 코드-변형)\"\n",
    "author: \"김보람\"\n",
    "date: \"05/26/2023\"\n",
    "categories:\n",
    "  - 사기거래\n",
    "---"
   ]
  },
  {
   "cell_type": "markdown",
   "id": "23912975-f1d0-4952-b0aa-8e620df23d4d",
   "metadata": {},
   "source": [
    "# imports "
   ]
  },
  {
   "cell_type": "code",
   "execution_count": 1,
   "id": "945de3cd-e8d8-430a-8c95-d4072eb68299",
   "metadata": {
    "tags": []
   },
   "outputs": [],
   "source": [
    "import numpy as np\n",
    "import pandas as pd\n",
    "import matplotlib.pyplot as plt \n",
    "import networkx as nx\n",
    "import sklearn\n",
    "\n",
    "# sklearn\n",
    "from sklearn import model_selection # split함수이용\n",
    "from sklearn import ensemble # RF,GBM\n",
    "from sklearn import metrics \n",
    "\n",
    "# embedding \n",
    "from node2vec import Node2Vec\n",
    "from node2vec.edges import HadamardEmbedder, AverageEmbedder, WeightedL1Embedder, WeightedL2Embedder"
   ]
  },
  {
   "cell_type": "code",
   "execution_count": 2,
   "id": "df91f02f-596f-4a5e-938a-561dc1cc6405",
   "metadata": {
    "tags": []
   },
   "outputs": [],
   "source": [
    "def build_graph_bipartite(df_input, graph_type=nx.Graph()):\n",
    "    df=df_input.copy()\n",
    "    mapping={x:node_id for node_id, x in enumerate(set(df[\"cc_num\"].values.tolist()+\\\n",
    "                                                      df[\"merchant\"].values.tolist()))}\n",
    "    \n",
    "    df[\"from\"]=df[\"cc_num\"].apply(lambda x:mapping[x])  #엣지의 출발점\n",
    "    df[\"to\"]=df[\"merchant\"].apply(lambda x:mapping[x])  #엣지의 도착점\n",
    "    \n",
    "    df = df[['from', 'to', \"amt\", \"is_fraud\"]].groupby(['from','to']).agg({\"is_fraud\":\"sum\",\"amt\":\"sum\"}).reset_index()\n",
    "    df[\"is_fraud\"]=df[\"is_fraud\"].apply(lambda x:1 if x>0 else 0)\n",
    "    \n",
    "    G=nx.from_edgelist(df[[\"from\",\"to\"]].values, create_using=graph_type)\n",
    "    \n",
    "    nx.set_edge_attributes(G,{(int(x[\"from\"]),int(x[\"to\"])):x[\"is_fraud\"] for idx, x in df[[\"from\",\"to\",\"is_fraud\"]].iterrows()}, \"label\")  #엣지 속성 설정,각 속성의 사기 여부부     \n",
    "    nx.set_edge_attributes(G,{(int(x[\"from\"]),int(x[\"to\"])):x[\"amt\"] for idx,x in df[[\"from\",\"to\",\"amt\"]].iterrows()}, \"weight\") # 엣지 속성 설정, 각 엣지의 거래 금액\n",
    "\n",
    "    return G\n",
    "\n",
    "\n",
    "def build_graph_tripartite(df_input, graph_type=nx.Graph()):\n",
    "    df=df_input.copy()\n",
    "    mapping={x:node_id for node_id, x in enumerate(set(df.index.values.tolist() + \n",
    "                                                       df[\"cc_num\"].values.tolist() +\n",
    "                                                       df[\"merchant\"].values.tolist()))}\n",
    "    df[\"in_node\"]= df[\"cc_num\"].apply(lambda x: mapping[x])\n",
    "    df[\"out_node\"]=df[\"merchant\"].apply(lambda x:mapping[x])\n",
    "    \n",
    "        \n",
    "    G=nx.from_edgelist([(x[\"in_node\"], mapping[idx]) for idx, x in df.iterrows()] +\\\n",
    "                        [(x[\"out_node\"], mapping[idx]) for idx, x in df.iterrows()], create_using=graph_type)\n",
    "    \n",
    "    nx.set_edge_attributes(G,{(x[\"in_node\"], mapping[idx]):x[\"is_fraud\"] for idx, x in df.iterrows()}, \"label\")     \n",
    "    nx.set_edge_attributes(G,{(x[\"out_node\"], mapping[idx]):x[\"is_fraud\"] for idx, x in df.iterrows()}, \"label\")   \n",
    "    nx.set_edge_attributes(G,{(x[\"in_node\"], mapping[idx]):x[\"amt\"] for idx, x in df.iterrows()}, \"weight\")  \n",
    "    nx.set_edge_attributes(G,{(x[\"out_node\"], mapping[idx]):x[\"amt\"] for idx, x in df.iterrows()}, \"weight\")\n",
    "\n",
    "    return G\n",
    "    \n",
    "    \n",
    "def down_sample_textbook(df):\n",
    "    df_majority = df[df.is_fraud==0].copy()\n",
    "    df_minority = df[df.is_fraud==1].copy()\n",
    "    df_maj_dowsampled = sklearn.utils.resample(df_majority, n_samples=len(df_minority), replace=False, random_state=42)\n",
    "    df_downsampled = pd.concat([df_minority, df_maj_dowsampled])\n",
    "    return df_downsampled\n",
    "\n",
    "def embedding(Graph):\n",
    "    # Graph -> X (feature)\n",
    "    _edgs = list(Graph.edges)\n",
    "    subGraph = Graph.edge_subgraph([_edgs[x] for x in range(len(Graph.edges))]).copy()\n",
    "    subGraph.add_nodes_from(list(set(Graph.nodes) - set(subGraph.nodes)))    \n",
    "    embedded = AverageEmbedder(Node2Vec(subGraph, weight_key='weight').fit(window=10).wv)\n",
    "    X = [embedded[str(_edgs[x][0]), str(_edgs[x][1])] for x in range(len(Graph.edges))]\n",
    "    # Graph -> y (label)\n",
    "    y = np.array(list(nx.get_edge_attributes(Graph, \"label\").values()))\n",
    "    return X,y \n",
    "\n",
    "def anal(df):\n",
    "    Graph = build_graph_bipartite(df)\n",
    "    X,XX,y,yy = embedding(Graph)\n",
    "    lrnr = RandomForestClassifier(n_estimators=100, random_state=42) \n",
    "    lrnr.fit(X,y)\n",
    "    yyhat = lrnr.predict(XX)\n",
    "    df = pd.DataFrame({\n",
    "        'acc':[sklearn.metrics.accuracy_score(yy,yyhat)], \n",
    "        'pre':[sklearn.metrics.precision_score(yy,yyhat)], \n",
    "        'rec':[sklearn.metrics.recall_score(yy,yyhat)],\n",
    "        'f1':[sklearn.metrics.f1_score(yy,yyhat)]}\n",
    "    )    \n",
    "    return df\n",
    "\n",
    "def our_sampling1(df):\n",
    "    cus_list = set(df.query('is_fraud==1').cc_num.tolist())\n",
    "    return df.query(\"cc_num in @ cus_list\")"
   ]
  },
  {
   "cell_type": "markdown",
   "id": "985e6fc3-b784-4e06-8357-e222188576f7",
   "metadata": {
    "tags": []
   },
   "source": [
    "# Overview"
   ]
  },
  {
   "cell_type": "markdown",
   "id": "d04ad56b-4c27-44b0-b9f9-4a06aa06c008",
   "metadata": {},
   "source": [
    "## 데이터 종류 \n",
    "\n",
    "- fraudTrain.csv: (1048575, 23), 기본데이터\n",
    "- df02: (214520, 23), is_fraud==0 에서는 20퍼의 샘플만, is_fraud==1 에서는 모든 샘플을 뽑아서 정리한 새로운 자료\n",
    "- df50 = (12012, 23), df20에서 is_fraud==0 와 is_fraud==1 의 비율을 맞추어서 샘플을 뽑은 것 "
   ]
  },
  {
   "cell_type": "markdown",
   "id": "e003315d-2a3b-4c98-8c14-cd4091aff696",
   "metadata": {},
   "source": [
    "|데이터|shape|사기거래빈도|설명|\n",
    "|-|-|-|-|\n",
    "|fraudTrain|(1048575, 22)|0.00573|원래자료|\n",
    "|df02|(214520, 22)|0.028| is_fraud==0 에서는 20퍼의 샘플만, is_fraud==1 에서는 모든 샘플을 뽑아서 정리한 새로운 자료|\n",
    "|df50|(12012, 22)|0.5| df02에서 사기비율을 50퍼로 맞추어 샘플링한 자료|\n",
    "|df50_tr|(9009, 22)|0.49828| df50에서 랜덤으로 train/test를 분리하여 얻은 train dataset|\n",
    "|df50_test|(3003, 22)|0.50516| df50에서 랜덤으로 train/test를 분리하여 얻은 test dataset|\n",
    "|df02_tr|(211517, 22)|0.02122| df02에서 df50_test에 해당하는 인덱스를 제외|\n",
    "|fraudTrain_tr|(1045572, 22)|0.00429| fraudTrain에서 df50_test에 해당하는 인덱스를 제외|"
   ]
  },
  {
   "cell_type": "markdown",
   "id": "6c114cce-1688-4ed7-b93a-83fa4083e39f",
   "metadata": {},
   "source": [
    "`-` fraudTrain"
   ]
  },
  {
   "cell_type": "code",
   "execution_count": 6,
   "id": "628fd9bc-7865-4181-8485-28fbadafa474",
   "metadata": {},
   "outputs": [],
   "source": [
    "fraudTrain = pd.read_csv(\"~/Desktop/fraudTrain.csv\").iloc[:,1:]"
   ]
  },
  {
   "cell_type": "code",
   "execution_count": 7,
   "id": "ced1bd8a-4535-4ac3-a1c3-bed4db262ded",
   "metadata": {},
   "outputs": [
    {
     "data": {
      "text/plain": [
       "0.00573"
      ]
     },
     "execution_count": 7,
     "metadata": {},
     "output_type": "execute_result"
    }
   ],
   "source": [
    "fraudTrain.is_fraud.mean().round(5)"
   ]
  },
  {
   "cell_type": "markdown",
   "id": "a42c8f3e-5d9c-4c1f-ad69-4194669ba77b",
   "metadata": {},
   "source": [
    "`-` df20"
   ]
  },
  {
   "cell_type": "code",
   "execution_count": 8,
   "id": "7da36222-6d9d-4c60-b3ad-2291c93323d3",
   "metadata": {},
   "outputs": [
    {
     "data": {
      "text/plain": [
       "(214520, 22)"
      ]
     },
     "execution_count": 8,
     "metadata": {},
     "output_type": "execute_result"
    }
   ],
   "source": [
    "_df1 = fraudTrain[fraudTrain[\"is_fraud\"] == 0].sample(frac=0.20, random_state=42)\n",
    "_df2 = fraudTrain[fraudTrain[\"is_fraud\"] == 1]\n",
    "df02 = pd.concat([_df1,_df2])\n",
    "df02.shape"
   ]
  },
  {
   "cell_type": "code",
   "execution_count": 9,
   "id": "4cb4df2f-1cfb-449b-9c4b-14e8f5c4a0b4",
   "metadata": {},
   "outputs": [
    {
     "data": {
      "text/plain": [
       "0.028"
      ]
     },
     "execution_count": 9,
     "metadata": {},
     "output_type": "execute_result"
    }
   ],
   "source": [
    "df02.is_fraud.mean().round(5)"
   ]
  },
  {
   "cell_type": "markdown",
   "id": "a0dc3666-642a-413a-b251-4669dc81d353",
   "metadata": {},
   "source": [
    "`-` df50"
   ]
  },
  {
   "cell_type": "code",
   "execution_count": 10,
   "id": "ef4fc73f-1c0f-407c-a844-9bba63efbaea",
   "metadata": {},
   "outputs": [
    {
     "data": {
      "text/plain": [
       "(12012, 22)"
      ]
     },
     "execution_count": 10,
     "metadata": {},
     "output_type": "execute_result"
    }
   ],
   "source": [
    "df50 = down_sample_textbook(df02)\n",
    "df50.shape"
   ]
  },
  {
   "cell_type": "code",
   "execution_count": 11,
   "id": "70f9f90d-9009-4b20-9753-aae078b56d84",
   "metadata": {},
   "outputs": [
    {
     "data": {
      "text/html": [
       "<div>\n",
       "<style scoped>\n",
       "    .dataframe tbody tr th:only-of-type {\n",
       "        vertical-align: middle;\n",
       "    }\n",
       "\n",
       "    .dataframe tbody tr th {\n",
       "        vertical-align: top;\n",
       "    }\n",
       "\n",
       "    .dataframe thead th {\n",
       "        text-align: right;\n",
       "    }\n",
       "</style>\n",
       "<table border=\"1\" class=\"dataframe\">\n",
       "  <thead>\n",
       "    <tr style=\"text-align: right;\">\n",
       "      <th></th>\n",
       "      <th>trans_date_trans_time</th>\n",
       "      <th>cc_num</th>\n",
       "      <th>merchant</th>\n",
       "      <th>category</th>\n",
       "      <th>amt</th>\n",
       "      <th>first</th>\n",
       "      <th>last</th>\n",
       "      <th>gender</th>\n",
       "      <th>street</th>\n",
       "      <th>city</th>\n",
       "      <th>...</th>\n",
       "      <th>lat</th>\n",
       "      <th>long</th>\n",
       "      <th>city_pop</th>\n",
       "      <th>job</th>\n",
       "      <th>dob</th>\n",
       "      <th>trans_num</th>\n",
       "      <th>unix_time</th>\n",
       "      <th>merch_lat</th>\n",
       "      <th>merch_long</th>\n",
       "      <th>is_fraud</th>\n",
       "    </tr>\n",
       "  </thead>\n",
       "  <tbody>\n",
       "    <tr>\n",
       "      <th>2449</th>\n",
       "      <td>2019-01-02 1:06</td>\n",
       "      <td>4.613310e+12</td>\n",
       "      <td>fraud_Rutherford-Mertz</td>\n",
       "      <td>grocery_pos</td>\n",
       "      <td>281.06</td>\n",
       "      <td>Jason</td>\n",
       "      <td>Murphy</td>\n",
       "      <td>M</td>\n",
       "      <td>542 Steve Curve Suite 011</td>\n",
       "      <td>Collettsville</td>\n",
       "      <td>...</td>\n",
       "      <td>35.9946</td>\n",
       "      <td>-81.7266</td>\n",
       "      <td>885</td>\n",
       "      <td>Soil scientist</td>\n",
       "      <td>1988-09-15</td>\n",
       "      <td>e8a81877ae9a0a7f883e15cb39dc4022</td>\n",
       "      <td>1325466397</td>\n",
       "      <td>36.430124</td>\n",
       "      <td>-81.179483</td>\n",
       "      <td>1</td>\n",
       "    </tr>\n",
       "    <tr>\n",
       "      <th>2472</th>\n",
       "      <td>2019-01-02 1:47</td>\n",
       "      <td>3.401870e+14</td>\n",
       "      <td>fraud_Jenkins, Hauck and Friesen</td>\n",
       "      <td>gas_transport</td>\n",
       "      <td>11.52</td>\n",
       "      <td>Misty</td>\n",
       "      <td>Hart</td>\n",
       "      <td>F</td>\n",
       "      <td>27954 Hall Mill Suite 575</td>\n",
       "      <td>San Antonio</td>\n",
       "      <td>...</td>\n",
       "      <td>29.4400</td>\n",
       "      <td>-98.4590</td>\n",
       "      <td>1595797</td>\n",
       "      <td>Horticultural consultant</td>\n",
       "      <td>1960-10-28</td>\n",
       "      <td>bc7d41c41103877b03232f03f1f8d3f5</td>\n",
       "      <td>1325468849</td>\n",
       "      <td>29.819364</td>\n",
       "      <td>-99.142791</td>\n",
       "      <td>1</td>\n",
       "    </tr>\n",
       "    <tr>\n",
       "      <th>2523</th>\n",
       "      <td>2019-01-02 3:05</td>\n",
       "      <td>3.401870e+14</td>\n",
       "      <td>fraud_Goodwin-Nitzsche</td>\n",
       "      <td>grocery_pos</td>\n",
       "      <td>276.31</td>\n",
       "      <td>Misty</td>\n",
       "      <td>Hart</td>\n",
       "      <td>F</td>\n",
       "      <td>27954 Hall Mill Suite 575</td>\n",
       "      <td>San Antonio</td>\n",
       "      <td>...</td>\n",
       "      <td>29.4400</td>\n",
       "      <td>-98.4590</td>\n",
       "      <td>1595797</td>\n",
       "      <td>Horticultural consultant</td>\n",
       "      <td>1960-10-28</td>\n",
       "      <td>b98f12f4168391b2203238813df5aa8c</td>\n",
       "      <td>1325473523</td>\n",
       "      <td>29.273085</td>\n",
       "      <td>-98.836360</td>\n",
       "      <td>1</td>\n",
       "    </tr>\n",
       "    <tr>\n",
       "      <th>2546</th>\n",
       "      <td>2019-01-02 3:38</td>\n",
       "      <td>4.613310e+12</td>\n",
       "      <td>fraud_Erdman-Kertzmann</td>\n",
       "      <td>gas_transport</td>\n",
       "      <td>7.03</td>\n",
       "      <td>Jason</td>\n",
       "      <td>Murphy</td>\n",
       "      <td>M</td>\n",
       "      <td>542 Steve Curve Suite 011</td>\n",
       "      <td>Collettsville</td>\n",
       "      <td>...</td>\n",
       "      <td>35.9946</td>\n",
       "      <td>-81.7266</td>\n",
       "      <td>885</td>\n",
       "      <td>Soil scientist</td>\n",
       "      <td>1988-09-15</td>\n",
       "      <td>397894a5c4c02e3c61c784001f0f14e4</td>\n",
       "      <td>1325475483</td>\n",
       "      <td>35.909292</td>\n",
       "      <td>-82.091010</td>\n",
       "      <td>1</td>\n",
       "    </tr>\n",
       "    <tr>\n",
       "      <th>2553</th>\n",
       "      <td>2019-01-02 3:55</td>\n",
       "      <td>3.401870e+14</td>\n",
       "      <td>fraud_Koepp-Parker</td>\n",
       "      <td>grocery_pos</td>\n",
       "      <td>275.73</td>\n",
       "      <td>Misty</td>\n",
       "      <td>Hart</td>\n",
       "      <td>F</td>\n",
       "      <td>27954 Hall Mill Suite 575</td>\n",
       "      <td>San Antonio</td>\n",
       "      <td>...</td>\n",
       "      <td>29.4400</td>\n",
       "      <td>-98.4590</td>\n",
       "      <td>1595797</td>\n",
       "      <td>Horticultural consultant</td>\n",
       "      <td>1960-10-28</td>\n",
       "      <td>7863235a750d73a244c07f1fb7f0185a</td>\n",
       "      <td>1325476547</td>\n",
       "      <td>29.786426</td>\n",
       "      <td>-98.683410</td>\n",
       "      <td>1</td>\n",
       "    </tr>\n",
       "    <tr>\n",
       "      <th>...</th>\n",
       "      <td>...</td>\n",
       "      <td>...</td>\n",
       "      <td>...</td>\n",
       "      <td>...</td>\n",
       "      <td>...</td>\n",
       "      <td>...</td>\n",
       "      <td>...</td>\n",
       "      <td>...</td>\n",
       "      <td>...</td>\n",
       "      <td>...</td>\n",
       "      <td>...</td>\n",
       "      <td>...</td>\n",
       "      <td>...</td>\n",
       "      <td>...</td>\n",
       "      <td>...</td>\n",
       "      <td>...</td>\n",
       "      <td>...</td>\n",
       "      <td>...</td>\n",
       "      <td>...</td>\n",
       "      <td>...</td>\n",
       "      <td>...</td>\n",
       "    </tr>\n",
       "    <tr>\n",
       "      <th>363827</th>\n",
       "      <td>2019-06-17 19:30</td>\n",
       "      <td>2.475090e+15</td>\n",
       "      <td>fraud_Frami Group</td>\n",
       "      <td>entertainment</td>\n",
       "      <td>81.13</td>\n",
       "      <td>John</td>\n",
       "      <td>Miller</td>\n",
       "      <td>M</td>\n",
       "      <td>153 Mccullough Springs Apt. 857</td>\n",
       "      <td>Lamberton</td>\n",
       "      <td>...</td>\n",
       "      <td>44.2378</td>\n",
       "      <td>-95.2739</td>\n",
       "      <td>1507</td>\n",
       "      <td>Land/geomatics surveyor</td>\n",
       "      <td>1993-10-12</td>\n",
       "      <td>c66cb411019c7dfd4d89f42a1ba4765f</td>\n",
       "      <td>1339961448</td>\n",
       "      <td>44.212695</td>\n",
       "      <td>-95.661879</td>\n",
       "      <td>0</td>\n",
       "    </tr>\n",
       "    <tr>\n",
       "      <th>140154</th>\n",
       "      <td>2019-03-17 14:33</td>\n",
       "      <td>2.131550e+14</td>\n",
       "      <td>fraud_Bahringer-Streich</td>\n",
       "      <td>food_dining</td>\n",
       "      <td>55.00</td>\n",
       "      <td>Christopher</td>\n",
       "      <td>Sheppard</td>\n",
       "      <td>M</td>\n",
       "      <td>39218 Baker Shoals</td>\n",
       "      <td>Bristow</td>\n",
       "      <td>...</td>\n",
       "      <td>38.1981</td>\n",
       "      <td>-86.6821</td>\n",
       "      <td>965</td>\n",
       "      <td>Horticultural therapist</td>\n",
       "      <td>1982-02-10</td>\n",
       "      <td>316b9d25b9fa7d08a6831b7dab6634cd</td>\n",
       "      <td>1331994839</td>\n",
       "      <td>38.394240</td>\n",
       "      <td>-86.413557</td>\n",
       "      <td>0</td>\n",
       "    </tr>\n",
       "    <tr>\n",
       "      <th>860597</th>\n",
       "      <td>2019-12-17 12:31</td>\n",
       "      <td>2.280870e+15</td>\n",
       "      <td>fraud_Lubowitz-Walter</td>\n",
       "      <td>kids_pets</td>\n",
       "      <td>8.12</td>\n",
       "      <td>Katherine</td>\n",
       "      <td>Cooper</td>\n",
       "      <td>F</td>\n",
       "      <td>3854 Lauren Springs Suite 648</td>\n",
       "      <td>Oakford</td>\n",
       "      <td>...</td>\n",
       "      <td>40.0994</td>\n",
       "      <td>-89.9601</td>\n",
       "      <td>530</td>\n",
       "      <td>Transport planner</td>\n",
       "      <td>1967-09-23</td>\n",
       "      <td>d92e9e63d9b24c3ccb92d05cba4cac54</td>\n",
       "      <td>1355747517</td>\n",
       "      <td>39.695248</td>\n",
       "      <td>-89.853063</td>\n",
       "      <td>0</td>\n",
       "    </tr>\n",
       "    <tr>\n",
       "      <th>29341</th>\n",
       "      <td>2019-01-18 9:20</td>\n",
       "      <td>4.878360e+15</td>\n",
       "      <td>fraud_Denesik and Sons</td>\n",
       "      <td>shopping_pos</td>\n",
       "      <td>3.52</td>\n",
       "      <td>Tina</td>\n",
       "      <td>Alvarez</td>\n",
       "      <td>F</td>\n",
       "      <td>1976 Tyler Underpass</td>\n",
       "      <td>Early</td>\n",
       "      <td>...</td>\n",
       "      <td>42.4483</td>\n",
       "      <td>-95.1726</td>\n",
       "      <td>885</td>\n",
       "      <td>Pilot, airline</td>\n",
       "      <td>1949-08-14</td>\n",
       "      <td>8390ce51cfb8482b618ebc4ac370bcf7</td>\n",
       "      <td>1326878457</td>\n",
       "      <td>42.633204</td>\n",
       "      <td>-95.598143</td>\n",
       "      <td>0</td>\n",
       "    </tr>\n",
       "    <tr>\n",
       "      <th>529797</th>\n",
       "      <td>2019-08-16 13:17</td>\n",
       "      <td>4.450830e+15</td>\n",
       "      <td>fraud_Beier and Sons</td>\n",
       "      <td>home</td>\n",
       "      <td>84.15</td>\n",
       "      <td>Donna</td>\n",
       "      <td>Davis</td>\n",
       "      <td>F</td>\n",
       "      <td>6760 Donovan Lakes</td>\n",
       "      <td>Clayton</td>\n",
       "      <td>...</td>\n",
       "      <td>34.5906</td>\n",
       "      <td>-95.3800</td>\n",
       "      <td>1760</td>\n",
       "      <td>Occupational psychologist</td>\n",
       "      <td>1972-01-20</td>\n",
       "      <td>04e1be9bcb18ea8b96048659bd02177b</td>\n",
       "      <td>1345123058</td>\n",
       "      <td>33.885236</td>\n",
       "      <td>-95.885110</td>\n",
       "      <td>0</td>\n",
       "    </tr>\n",
       "  </tbody>\n",
       "</table>\n",
       "<p>12012 rows × 22 columns</p>\n",
       "</div>"
      ],
      "text/plain": [
       "       trans_date_trans_time        cc_num                          merchant  \\\n",
       "2449         2019-01-02 1:06  4.613310e+12            fraud_Rutherford-Mertz   \n",
       "2472         2019-01-02 1:47  3.401870e+14  fraud_Jenkins, Hauck and Friesen   \n",
       "2523         2019-01-02 3:05  3.401870e+14            fraud_Goodwin-Nitzsche   \n",
       "2546         2019-01-02 3:38  4.613310e+12            fraud_Erdman-Kertzmann   \n",
       "2553         2019-01-02 3:55  3.401870e+14                fraud_Koepp-Parker   \n",
       "...                      ...           ...                               ...   \n",
       "363827      2019-06-17 19:30  2.475090e+15                 fraud_Frami Group   \n",
       "140154      2019-03-17 14:33  2.131550e+14           fraud_Bahringer-Streich   \n",
       "860597      2019-12-17 12:31  2.280870e+15             fraud_Lubowitz-Walter   \n",
       "29341        2019-01-18 9:20  4.878360e+15            fraud_Denesik and Sons   \n",
       "529797      2019-08-16 13:17  4.450830e+15              fraud_Beier and Sons   \n",
       "\n",
       "             category     amt        first      last gender  \\\n",
       "2449      grocery_pos  281.06        Jason    Murphy      M   \n",
       "2472    gas_transport   11.52        Misty      Hart      F   \n",
       "2523      grocery_pos  276.31        Misty      Hart      F   \n",
       "2546    gas_transport    7.03        Jason    Murphy      M   \n",
       "2553      grocery_pos  275.73        Misty      Hart      F   \n",
       "...               ...     ...          ...       ...    ...   \n",
       "363827  entertainment   81.13         John    Miller      M   \n",
       "140154    food_dining   55.00  Christopher  Sheppard      M   \n",
       "860597      kids_pets    8.12    Katherine    Cooper      F   \n",
       "29341    shopping_pos    3.52         Tina   Alvarez      F   \n",
       "529797           home   84.15        Donna     Davis      F   \n",
       "\n",
       "                                 street           city  ...      lat     long  \\\n",
       "2449          542 Steve Curve Suite 011  Collettsville  ...  35.9946 -81.7266   \n",
       "2472          27954 Hall Mill Suite 575    San Antonio  ...  29.4400 -98.4590   \n",
       "2523          27954 Hall Mill Suite 575    San Antonio  ...  29.4400 -98.4590   \n",
       "2546          542 Steve Curve Suite 011  Collettsville  ...  35.9946 -81.7266   \n",
       "2553          27954 Hall Mill Suite 575    San Antonio  ...  29.4400 -98.4590   \n",
       "...                                 ...            ...  ...      ...      ...   \n",
       "363827  153 Mccullough Springs Apt. 857      Lamberton  ...  44.2378 -95.2739   \n",
       "140154               39218 Baker Shoals        Bristow  ...  38.1981 -86.6821   \n",
       "860597    3854 Lauren Springs Suite 648        Oakford  ...  40.0994 -89.9601   \n",
       "29341              1976 Tyler Underpass          Early  ...  42.4483 -95.1726   \n",
       "529797               6760 Donovan Lakes        Clayton  ...  34.5906 -95.3800   \n",
       "\n",
       "        city_pop                        job         dob  \\\n",
       "2449         885             Soil scientist  1988-09-15   \n",
       "2472     1595797   Horticultural consultant  1960-10-28   \n",
       "2523     1595797   Horticultural consultant  1960-10-28   \n",
       "2546         885             Soil scientist  1988-09-15   \n",
       "2553     1595797   Horticultural consultant  1960-10-28   \n",
       "...          ...                        ...         ...   \n",
       "363827      1507    Land/geomatics surveyor  1993-10-12   \n",
       "140154       965    Horticultural therapist  1982-02-10   \n",
       "860597       530          Transport planner  1967-09-23   \n",
       "29341        885             Pilot, airline  1949-08-14   \n",
       "529797      1760  Occupational psychologist  1972-01-20   \n",
       "\n",
       "                               trans_num   unix_time  merch_lat  merch_long  \\\n",
       "2449    e8a81877ae9a0a7f883e15cb39dc4022  1325466397  36.430124  -81.179483   \n",
       "2472    bc7d41c41103877b03232f03f1f8d3f5  1325468849  29.819364  -99.142791   \n",
       "2523    b98f12f4168391b2203238813df5aa8c  1325473523  29.273085  -98.836360   \n",
       "2546    397894a5c4c02e3c61c784001f0f14e4  1325475483  35.909292  -82.091010   \n",
       "2553    7863235a750d73a244c07f1fb7f0185a  1325476547  29.786426  -98.683410   \n",
       "...                                  ...         ...        ...         ...   \n",
       "363827  c66cb411019c7dfd4d89f42a1ba4765f  1339961448  44.212695  -95.661879   \n",
       "140154  316b9d25b9fa7d08a6831b7dab6634cd  1331994839  38.394240  -86.413557   \n",
       "860597  d92e9e63d9b24c3ccb92d05cba4cac54  1355747517  39.695248  -89.853063   \n",
       "29341   8390ce51cfb8482b618ebc4ac370bcf7  1326878457  42.633204  -95.598143   \n",
       "529797  04e1be9bcb18ea8b96048659bd02177b  1345123058  33.885236  -95.885110   \n",
       "\n",
       "        is_fraud  \n",
       "2449           1  \n",
       "2472           1  \n",
       "2523           1  \n",
       "2546           1  \n",
       "2553           1  \n",
       "...          ...  \n",
       "363827         0  \n",
       "140154         0  \n",
       "860597         0  \n",
       "29341          0  \n",
       "529797         0  \n",
       "\n",
       "[12012 rows x 22 columns]"
      ]
     },
     "execution_count": 11,
     "metadata": {},
     "output_type": "execute_result"
    }
   ],
   "source": [
    "df50"
   ]
  },
  {
   "cell_type": "code",
   "execution_count": 12,
   "id": "050a3bea-663e-40c4-9935-216eaee4240b",
   "metadata": {},
   "outputs": [
    {
     "data": {
      "text/plain": [
       "0.5"
      ]
     },
     "execution_count": 12,
     "metadata": {},
     "output_type": "execute_result"
    }
   ],
   "source": [
    "df50.is_fraud.mean().round(5)"
   ]
  },
  {
   "cell_type": "markdown",
   "id": "2b82254c-b280-4613-9c48-68583dd8302c",
   "metadata": {},
   "source": [
    "`-` df50_tr, df50_test "
   ]
  },
  {
   "cell_type": "code",
   "execution_count": 13,
   "id": "8bbec0ba-9592-48ee-b7d1-961fdbf1b346",
   "metadata": {},
   "outputs": [],
   "source": [
    "df50_tr,df50_test = sklearn.model_selection.train_test_split(df50, random_state=42)"
   ]
  },
  {
   "cell_type": "code",
   "execution_count": 14,
   "id": "44dd51d5-86ef-4a27-92e9-41a30e37bc74",
   "metadata": {},
   "outputs": [
    {
     "data": {
      "text/plain": [
       "(0.49828, 0.50516)"
      ]
     },
     "execution_count": 14,
     "metadata": {},
     "output_type": "execute_result"
    }
   ],
   "source": [
    "df50_tr.is_fraud.mean().round(5), df50_test.is_fraud.mean().round(5)"
   ]
  },
  {
   "cell_type": "markdown",
   "id": "662da6fc-f3c1-497f-8c2e-5505424a5311",
   "metadata": {},
   "source": [
    "`-` df02_tr, fraudTrain_tr"
   ]
  },
  {
   "cell_type": "code",
   "execution_count": 15,
   "id": "a983034d-0fb0-438b-ba9f-c2e9cdb0fda2",
   "metadata": {},
   "outputs": [],
   "source": [
    "df02_tr = df02.loc[[i not in df50_test.index for i in df02.index],:].copy()\n",
    "fraudTrain_tr = fraudTrain.loc[[i not in df50_test.index for i in fraudTrain.index],:].copy()"
   ]
  },
  {
   "cell_type": "code",
   "execution_count": 16,
   "id": "7a5407c6-573f-486b-b9fa-0f8f1dba12e0",
   "metadata": {},
   "outputs": [
    {
     "data": {
      "text/plain": [
       "((211517, 22), (1045572, 22))"
      ]
     },
     "execution_count": 16,
     "metadata": {},
     "output_type": "execute_result"
    }
   ],
   "source": [
    "df02_tr.shape, fraudTrain_tr.shape"
   ]
  },
  {
   "cell_type": "code",
   "execution_count": 17,
   "id": "f71af68a-c14f-42a7-b646-3a9c3d41625f",
   "metadata": {},
   "outputs": [
    {
     "data": {
      "text/plain": [
       "(0.02122, 0.00429)"
      ]
     },
     "execution_count": 17,
     "metadata": {},
     "output_type": "execute_result"
    }
   ],
   "source": [
    "df02_tr.is_fraud.mean().round(5), fraudTrain_tr.is_fraud.mean().round(5)"
   ]
  },
  {
   "cell_type": "markdown",
   "id": "aeb7b83c-1454-4373-8e38-b25721bfee01",
   "metadata": {},
   "source": [
    "# 분석방법정리 "
   ]
  },
  {
   "cell_type": "markdown",
   "id": "29306f33-0b54-4da7-a155-25291b4b287a",
   "metadata": {},
   "source": [
    "||Train|Test|모형|설명변수|참고|\n",
    "|-|-|-|-|-|-|\n",
    "|분석1|df50train|df50test|로지스틱|amt|쓰레기|\n",
    "|분석2|df50train|df50test|그레디언트부스팅|amt|base|\n",
    "|**분석3**|df50train|df50test|그레디언트부스팅|amt,amtano|가장좋음|\n",
    "|분석4|df02train|df50test|그레디언트부스팅|amt,amtano|가능성있음|\n",
    "|분석5|fraudTrain_tr|df50test|그레디언트부스팅|amt,amtano|가능성있음|"
   ]
  },
  {
   "cell_type": "code",
   "execution_count": 34,
   "id": "3e4ab00a-10f2-49b4-ade9-cda9cc436e4c",
   "metadata": {},
   "outputs": [
    {
     "data": {
      "text/html": [
       "<div>\n",
       "<style scoped>\n",
       "    .dataframe tbody tr th:only-of-type {\n",
       "        vertical-align: middle;\n",
       "    }\n",
       "\n",
       "    .dataframe tbody tr th {\n",
       "        vertical-align: top;\n",
       "    }\n",
       "\n",
       "    .dataframe thead th {\n",
       "        text-align: right;\n",
       "    }\n",
       "</style>\n",
       "<table border=\"1\" class=\"dataframe\">\n",
       "  <thead>\n",
       "    <tr style=\"text-align: right;\">\n",
       "      <th></th>\n",
       "      <th>accuracy_score</th>\n",
       "      <th>precision_score</th>\n",
       "      <th>recall_score</th>\n",
       "      <th>f1_score</th>\n",
       "    </tr>\n",
       "  </thead>\n",
       "  <tbody>\n",
       "    <tr>\n",
       "      <th>분석2</th>\n",
       "      <td>0.88678</td>\n",
       "      <td>0.910677</td>\n",
       "      <td>0.860250</td>\n",
       "      <td>0.884746</td>\n",
       "    </tr>\n",
       "    <tr>\n",
       "      <th>분석3</th>\n",
       "      <td>0.53047</td>\n",
       "      <td>0.908397</td>\n",
       "      <td>0.078444</td>\n",
       "      <td>0.144417</td>\n",
       "    </tr>\n",
       "  </tbody>\n",
       "</table>\n",
       "</div>"
      ],
      "text/plain": [
       "     accuracy_score  precision_score  recall_score  f1_score\n",
       "분석2         0.88678         0.910677      0.860250  0.884746\n",
       "분석3         0.53047         0.908397      0.078444  0.144417"
      ]
     },
     "execution_count": 34,
     "metadata": {},
     "output_type": "execute_result"
    }
   ],
   "source": [
    "lst = [_results2,_results3]\n",
    "pd.concat(lst)"
   ]
  },
  {
   "cell_type": "markdown",
   "id": "95512a5e-6d5a-4d2c-9f27-a64fdea21e99",
   "metadata": {
    "tags": []
   },
   "source": [
    "# 분석2"
   ]
  },
  {
   "cell_type": "markdown",
   "id": "e4ec6af3-a07a-47a5-8de7-302a6b2ec110",
   "metadata": {},
   "source": [
    "`-` step1: data "
   ]
  },
  {
   "cell_type": "code",
   "execution_count": 19,
   "id": "44ffdfd4-14e4-4c56-aa84-b81d2e564cbd",
   "metadata": {},
   "outputs": [],
   "source": [
    "X = np.array(df02_tr.loc[:,['amt']])\n",
    "XX = np.array(df50_test.loc[:,['amt']])\n",
    "y = np.array(df02_tr.is_fraud)\n",
    "yy = np.array(df50_test.is_fraud)"
   ]
  },
  {
   "cell_type": "markdown",
   "id": "0f19743a-5d1d-418c-94f7-676b2a32c720",
   "metadata": {},
   "source": [
    "`-` step2: lrnr 생성 "
   ]
  },
  {
   "cell_type": "code",
   "execution_count": 20,
   "id": "1bf06976-4b2c-4e02-a8a8-0bb378dfd4c5",
   "metadata": {},
   "outputs": [],
   "source": [
    "lrnr = ensemble.GradientBoostingClassifier()"
   ]
  },
  {
   "cell_type": "markdown",
   "id": "a2cb73f6-2c71-4952-823e-c67938d4d309",
   "metadata": {},
   "source": [
    "`-` step3: fit "
   ]
  },
  {
   "cell_type": "code",
   "execution_count": 21,
   "id": "ba2e09df-4454-48ae-82c2-54f0b4b34913",
   "metadata": {},
   "outputs": [
    {
     "data": {
      "text/html": [
       "<style>#sk-container-id-1 {color: black;background-color: white;}#sk-container-id-1 pre{padding: 0;}#sk-container-id-1 div.sk-toggleable {background-color: white;}#sk-container-id-1 label.sk-toggleable__label {cursor: pointer;display: block;width: 100%;margin-bottom: 0;padding: 0.3em;box-sizing: border-box;text-align: center;}#sk-container-id-1 label.sk-toggleable__label-arrow:before {content: \"▸\";float: left;margin-right: 0.25em;color: #696969;}#sk-container-id-1 label.sk-toggleable__label-arrow:hover:before {color: black;}#sk-container-id-1 div.sk-estimator:hover label.sk-toggleable__label-arrow:before {color: black;}#sk-container-id-1 div.sk-toggleable__content {max-height: 0;max-width: 0;overflow: hidden;text-align: left;background-color: #f0f8ff;}#sk-container-id-1 div.sk-toggleable__content pre {margin: 0.2em;color: black;border-radius: 0.25em;background-color: #f0f8ff;}#sk-container-id-1 input.sk-toggleable__control:checked~div.sk-toggleable__content {max-height: 200px;max-width: 100%;overflow: auto;}#sk-container-id-1 input.sk-toggleable__control:checked~label.sk-toggleable__label-arrow:before {content: \"▾\";}#sk-container-id-1 div.sk-estimator input.sk-toggleable__control:checked~label.sk-toggleable__label {background-color: #d4ebff;}#sk-container-id-1 div.sk-label input.sk-toggleable__control:checked~label.sk-toggleable__label {background-color: #d4ebff;}#sk-container-id-1 input.sk-hidden--visually {border: 0;clip: rect(1px 1px 1px 1px);clip: rect(1px, 1px, 1px, 1px);height: 1px;margin: -1px;overflow: hidden;padding: 0;position: absolute;width: 1px;}#sk-container-id-1 div.sk-estimator {font-family: monospace;background-color: #f0f8ff;border: 1px dotted black;border-radius: 0.25em;box-sizing: border-box;margin-bottom: 0.5em;}#sk-container-id-1 div.sk-estimator:hover {background-color: #d4ebff;}#sk-container-id-1 div.sk-parallel-item::after {content: \"\";width: 100%;border-bottom: 1px solid gray;flex-grow: 1;}#sk-container-id-1 div.sk-label:hover label.sk-toggleable__label {background-color: #d4ebff;}#sk-container-id-1 div.sk-serial::before {content: \"\";position: absolute;border-left: 1px solid gray;box-sizing: border-box;top: 0;bottom: 0;left: 50%;z-index: 0;}#sk-container-id-1 div.sk-serial {display: flex;flex-direction: column;align-items: center;background-color: white;padding-right: 0.2em;padding-left: 0.2em;position: relative;}#sk-container-id-1 div.sk-item {position: relative;z-index: 1;}#sk-container-id-1 div.sk-parallel {display: flex;align-items: stretch;justify-content: center;background-color: white;position: relative;}#sk-container-id-1 div.sk-item::before, #sk-container-id-1 div.sk-parallel-item::before {content: \"\";position: absolute;border-left: 1px solid gray;box-sizing: border-box;top: 0;bottom: 0;left: 50%;z-index: -1;}#sk-container-id-1 div.sk-parallel-item {display: flex;flex-direction: column;z-index: 1;position: relative;background-color: white;}#sk-container-id-1 div.sk-parallel-item:first-child::after {align-self: flex-end;width: 50%;}#sk-container-id-1 div.sk-parallel-item:last-child::after {align-self: flex-start;width: 50%;}#sk-container-id-1 div.sk-parallel-item:only-child::after {width: 0;}#sk-container-id-1 div.sk-dashed-wrapped {border: 1px dashed gray;margin: 0 0.4em 0.5em 0.4em;box-sizing: border-box;padding-bottom: 0.4em;background-color: white;}#sk-container-id-1 div.sk-label label {font-family: monospace;font-weight: bold;display: inline-block;line-height: 1.2em;}#sk-container-id-1 div.sk-label-container {text-align: center;}#sk-container-id-1 div.sk-container {/* jupyter's `normalize.less` sets `[hidden] { display: none; }` but bootstrap.min.css set `[hidden] { display: none !important; }` so we also need the `!important` here to be able to override the default hidden behavior on the sphinx rendered scikit-learn.org. See: https://github.com/scikit-learn/scikit-learn/issues/21755 */display: inline-block !important;position: relative;}#sk-container-id-1 div.sk-text-repr-fallback {display: none;}</style><div id=\"sk-container-id-1\" class=\"sk-top-container\"><div class=\"sk-text-repr-fallback\"><pre>GradientBoostingClassifier()</pre><b>In a Jupyter environment, please rerun this cell to show the HTML representation or trust the notebook. <br />On GitHub, the HTML representation is unable to render, please try loading this page with nbviewer.org.</b></div><div class=\"sk-container\" hidden><div class=\"sk-item\"><div class=\"sk-estimator sk-toggleable\"><input class=\"sk-toggleable__control sk-hidden--visually\" id=\"sk-estimator-id-1\" type=\"checkbox\" checked><label for=\"sk-estimator-id-1\" class=\"sk-toggleable__label sk-toggleable__label-arrow\">GradientBoostingClassifier</label><div class=\"sk-toggleable__content\"><pre>GradientBoostingClassifier()</pre></div></div></div></div></div>"
      ],
      "text/plain": [
       "GradientBoostingClassifier()"
      ]
     },
     "execution_count": 21,
     "metadata": {},
     "output_type": "execute_result"
    }
   ],
   "source": [
    "lrnr.fit(X,y)"
   ]
  },
  {
   "cell_type": "markdown",
   "id": "43fbf25f-4ff3-4ee2-a6fa-d7c471ec5c61",
   "metadata": {},
   "source": [
    "`-` step4: evaluate"
   ]
  },
  {
   "cell_type": "code",
   "execution_count": 22,
   "id": "dfcd128f-8287-4f47-be3c-94b783079a4d",
   "metadata": {},
   "outputs": [],
   "source": [
    "thresh = y.mean()\n",
    "yyhat = (lrnr.predict_proba(XX)> thresh)[:,-1]\n",
    "#yyhat = lrnr.predict(XX) "
   ]
  },
  {
   "cell_type": "code",
   "execution_count": 23,
   "id": "5eae4282-3b49-4c0c-9e73-8fb1670025db",
   "metadata": {},
   "outputs": [],
   "source": [
    "metrics = [sklearn.metrics.accuracy_score,\n",
    "           sklearn.metrics.precision_score,\n",
    "           sklearn.metrics.recall_score,\n",
    "           sklearn.metrics.f1_score]"
   ]
  },
  {
   "cell_type": "code",
   "execution_count": 24,
   "id": "21c7c5d2-e633-4330-9550-e8aa641fc272",
   "metadata": {},
   "outputs": [
    {
     "data": {
      "text/html": [
       "<div>\n",
       "<style scoped>\n",
       "    .dataframe tbody tr th:only-of-type {\n",
       "        vertical-align: middle;\n",
       "    }\n",
       "\n",
       "    .dataframe tbody tr th {\n",
       "        vertical-align: top;\n",
       "    }\n",
       "\n",
       "    .dataframe thead th {\n",
       "        text-align: right;\n",
       "    }\n",
       "</style>\n",
       "<table border=\"1\" class=\"dataframe\">\n",
       "  <thead>\n",
       "    <tr style=\"text-align: right;\">\n",
       "      <th></th>\n",
       "      <th>accuracy_score</th>\n",
       "      <th>precision_score</th>\n",
       "      <th>recall_score</th>\n",
       "      <th>f1_score</th>\n",
       "    </tr>\n",
       "  </thead>\n",
       "  <tbody>\n",
       "    <tr>\n",
       "      <th>분석2</th>\n",
       "      <td>0.88678</td>\n",
       "      <td>0.910677</td>\n",
       "      <td>0.86025</td>\n",
       "      <td>0.884746</td>\n",
       "    </tr>\n",
       "  </tbody>\n",
       "</table>\n",
       "</div>"
      ],
      "text/plain": [
       "     accuracy_score  precision_score  recall_score  f1_score\n",
       "분석2         0.88678         0.910677       0.86025  0.884746"
      ]
     },
     "execution_count": 24,
     "metadata": {},
     "output_type": "execute_result"
    }
   ],
   "source": [
    "_results2= pd.DataFrame({m.__name__:[m(yy,yyhat).round(6)] for m in metrics},index=['분석2'])\n",
    "_results2"
   ]
  },
  {
   "cell_type": "markdown",
   "id": "72d4bb8c-1f24-4140-94d2-586f3853dfaa",
   "metadata": {},
   "source": [
    "# 분석3 "
   ]
  },
  {
   "cell_type": "markdown",
   "id": "d2697c1c-597b-4854-ab68-5561adcf883f",
   "metadata": {},
   "source": [
    "`-` step1: data "
   ]
  },
  {
   "cell_type": "code",
   "execution_count": 25,
   "id": "6ca64ec6-298b-46a4-8b3b-e19c6c0ef505",
   "metadata": {},
   "outputs": [],
   "source": [
    "def amtano(df_train):\n",
    "    df = df_train.copy()\n",
    "    df = df.assign(amtano1=0)\n",
    "    df = df.assign(amtano2=0)\n",
    "    df = df.assign(amtano3=0)\n",
    "    normalize = lambda arr: (arr-np.median(arr)) if np.std(arr)!=0 else arr*0 \n",
    "    rollmax = lambda arr: arr.rolling(window=3, min_periods=1).max()\n",
    "    rollmin = lambda arr: arr.rolling(window=3, min_periods=1).min()    \n",
    "    rollmean = lambda arr: arr.rolling(window=3, min_periods=1).mean()    \n",
    "    rollstd = lambda arr: arr.rolling(window=3, min_periods=1).std()    \n",
    "    for cc_num, sub_df in df.groupby('cc_num'):\n",
    "        df.loc[df.cc_num == cc_num,['amtano1']] = normalize(sub_df.amt)\n",
    "        df.loc[df.cc_num == cc_num,['amtano2']] = (sub_df.amt * rollmean(normalize(sub_df.amt)))/rollmin(sub_df.amt)\n",
    "        df.loc[df.cc_num == cc_num,['amtano3']] = rollmin(normalize(sub_df.amt))\n",
    "    return df  "
   ]
  },
  {
   "cell_type": "code",
   "execution_count": 26,
   "id": "d51341c7-b68d-4e8e-a9d5-6962f4427967",
   "metadata": {},
   "outputs": [],
   "source": [
    "df02_tr2 = amtano(df02_tr)\n",
    "df50_test2 = amtano(df50_test)\n",
    "\n",
    "X = np.array(df02_tr2.loc[:,['amtano2']])\n",
    "XX = np.array(df50_test2.loc[:,['amtano2']])\n",
    "y = np.array(df02_tr.is_fraud)\n",
    "yy = np.array(df50_test.is_fraud)"
   ]
  },
  {
   "cell_type": "code",
   "execution_count": 48,
   "id": "68266754-f41b-49bb-a3cf-11498cc14afe",
   "metadata": {},
   "outputs": [
    {
     "data": {
      "text/plain": [
       "array([[-4.83300000e+01],\n",
       "       [-4.98600000e+01],\n",
       "       [ 3.80000000e-01],\n",
       "       ...,\n",
       "       [ 3.07446419e+02],\n",
       "       [ 1.33778660e+04],\n",
       "       [ 3.87913333e+02]])"
      ]
     },
     "execution_count": 48,
     "metadata": {},
     "output_type": "execute_result"
    }
   ],
   "source": [
    "X"
   ]
  },
  {
   "cell_type": "code",
   "execution_count": 27,
   "id": "9e7e1012-7de8-4379-ae8a-881319fbd9a5",
   "metadata": {},
   "outputs": [],
   "source": [
    "cclist = df02_tr2.cc_num.unique().tolist()"
   ]
  },
  {
   "cell_type": "code",
   "execution_count": 41,
   "id": "a6cfd704-6216-4525-a8c2-d3c5d8159b38",
   "metadata": {},
   "outputs": [
    {
     "data": {
      "text/plain": [
       "[<matplotlib.lines.Line2D at 0x7ffa8c6260a0>]"
      ]
     },
     "execution_count": 41,
     "metadata": {},
     "output_type": "execute_result"
    },
    {
     "data": {
      "image/png": "[encoded data removed]",
      "text/plain": [
       "<Figure size 640x480 with 1 Axes>"
      ]
     },
     "metadata": {},
     "output_type": "display_data"
    }
   ],
   "source": [
    "i=90\n",
    "plt.plot(df02_tr2.query('cc_num==@cclist[@i]').trans_date_trans_time, df02_tr2.query('cc_num==@cclist[@i]').amt,'o')\n",
    "plt.plot(df02_tr2.query('cc_num==@cclist[@i]').trans_date_trans_time, df02_tr2.query('cc_num==@cclist[@i]').is_fraud*df02_tr2.query('cc_num==@cclist[@i]').amt,'x')"
   ]
  },
  {
   "cell_type": "code",
   "execution_count": null,
   "id": "3b5511fc-a7f1-41b4-9fc9-dc515188b8a6",
   "metadata": {},
   "outputs": [],
   "source": []
  },
  {
   "cell_type": "code",
   "execution_count": null,
   "id": "9d1205ee-d099-4843-bd97-7eea4ba98c10",
   "metadata": {},
   "outputs": [],
   "source": []
  },
  {
   "cell_type": "code",
   "execution_count": null,
   "id": "d4030f6e-232a-4cab-9baf-9848dbdcb523",
   "metadata": {},
   "outputs": [],
   "source": []
  },
  {
   "cell_type": "markdown",
   "id": "9b353aad-2e61-4fbc-99a0-5a0a24041e2f",
   "metadata": {},
   "source": [
    "`-` step2: lrnr 생성 "
   ]
  },
  {
   "cell_type": "code",
   "execution_count": 29,
   "id": "0677ae59-4107-47be-9261-1f4ba1edb2f4",
   "metadata": {},
   "outputs": [],
   "source": [
    "lrnr = ensemble.GradientBoostingClassifier()"
   ]
  },
  {
   "cell_type": "markdown",
   "id": "faa5fd1e-2a20-452a-8f73-3a526324200d",
   "metadata": {},
   "source": [
    "`-` step3: fit "
   ]
  },
  {
   "cell_type": "code",
   "execution_count": 30,
   "id": "8a735642-1e5c-4918-b71c-f2548e9abecb",
   "metadata": {},
   "outputs": [
    {
     "data": {
      "text/html": [
       "<style>#sk-container-id-2 {color: black;background-color: white;}#sk-container-id-2 pre{padding: 0;}#sk-container-id-2 div.sk-toggleable {background-color: white;}#sk-container-id-2 label.sk-toggleable__label {cursor: pointer;display: block;width: 100%;margin-bottom: 0;padding: 0.3em;box-sizing: border-box;text-align: center;}#sk-container-id-2 label.sk-toggleable__label-arrow:before {content: \"▸\";float: left;margin-right: 0.25em;color: #696969;}#sk-container-id-2 label.sk-toggleable__label-arrow:hover:before {color: black;}#sk-container-id-2 div.sk-estimator:hover label.sk-toggleable__label-arrow:before {color: black;}#sk-container-id-2 div.sk-toggleable__content {max-height: 0;max-width: 0;overflow: hidden;text-align: left;background-color: #f0f8ff;}#sk-container-id-2 div.sk-toggleable__content pre {margin: 0.2em;color: black;border-radius: 0.25em;background-color: #f0f8ff;}#sk-container-id-2 input.sk-toggleable__control:checked~div.sk-toggleable__content {max-height: 200px;max-width: 100%;overflow: auto;}#sk-container-id-2 input.sk-toggleable__control:checked~label.sk-toggleable__label-arrow:before {content: \"▾\";}#sk-container-id-2 div.sk-estimator input.sk-toggleable__control:checked~label.sk-toggleable__label {background-color: #d4ebff;}#sk-container-id-2 div.sk-label input.sk-toggleable__control:checked~label.sk-toggleable__label {background-color: #d4ebff;}#sk-container-id-2 input.sk-hidden--visually {border: 0;clip: rect(1px 1px 1px 1px);clip: rect(1px, 1px, 1px, 1px);height: 1px;margin: -1px;overflow: hidden;padding: 0;position: absolute;width: 1px;}#sk-container-id-2 div.sk-estimator {font-family: monospace;background-color: #f0f8ff;border: 1px dotted black;border-radius: 0.25em;box-sizing: border-box;margin-bottom: 0.5em;}#sk-container-id-2 div.sk-estimator:hover {background-color: #d4ebff;}#sk-container-id-2 div.sk-parallel-item::after {content: \"\";width: 100%;border-bottom: 1px solid gray;flex-grow: 1;}#sk-container-id-2 div.sk-label:hover label.sk-toggleable__label {background-color: #d4ebff;}#sk-container-id-2 div.sk-serial::before {content: \"\";position: absolute;border-left: 1px solid gray;box-sizing: border-box;top: 0;bottom: 0;left: 50%;z-index: 0;}#sk-container-id-2 div.sk-serial {display: flex;flex-direction: column;align-items: center;background-color: white;padding-right: 0.2em;padding-left: 0.2em;position: relative;}#sk-container-id-2 div.sk-item {position: relative;z-index: 1;}#sk-container-id-2 div.sk-parallel {display: flex;align-items: stretch;justify-content: center;background-color: white;position: relative;}#sk-container-id-2 div.sk-item::before, #sk-container-id-2 div.sk-parallel-item::before {content: \"\";position: absolute;border-left: 1px solid gray;box-sizing: border-box;top: 0;bottom: 0;left: 50%;z-index: -1;}#sk-container-id-2 div.sk-parallel-item {display: flex;flex-direction: column;z-index: 1;position: relative;background-color: white;}#sk-container-id-2 div.sk-parallel-item:first-child::after {align-self: flex-end;width: 50%;}#sk-container-id-2 div.sk-parallel-item:last-child::after {align-self: flex-start;width: 50%;}#sk-container-id-2 div.sk-parallel-item:only-child::after {width: 0;}#sk-container-id-2 div.sk-dashed-wrapped {border: 1px dashed gray;margin: 0 0.4em 0.5em 0.4em;box-sizing: border-box;padding-bottom: 0.4em;background-color: white;}#sk-container-id-2 div.sk-label label {font-family: monospace;font-weight: bold;display: inline-block;line-height: 1.2em;}#sk-container-id-2 div.sk-label-container {text-align: center;}#sk-container-id-2 div.sk-container {/* jupyter's `normalize.less` sets `[hidden] { display: none; }` but bootstrap.min.css set `[hidden] { display: none !important; }` so we also need the `!important` here to be able to override the default hidden behavior on the sphinx rendered scikit-learn.org. See: https://github.com/scikit-learn/scikit-learn/issues/21755 */display: inline-block !important;position: relative;}#sk-container-id-2 div.sk-text-repr-fallback {display: none;}</style><div id=\"sk-container-id-2\" class=\"sk-top-container\"><div class=\"sk-text-repr-fallback\"><pre>GradientBoostingClassifier()</pre><b>In a Jupyter environment, please rerun this cell to show the HTML representation or trust the notebook. <br />On GitHub, the HTML representation is unable to render, please try loading this page with nbviewer.org.</b></div><div class=\"sk-container\" hidden><div class=\"sk-item\"><div class=\"sk-estimator sk-toggleable\"><input class=\"sk-toggleable__control sk-hidden--visually\" id=\"sk-estimator-id-2\" type=\"checkbox\" checked><label for=\"sk-estimator-id-2\" class=\"sk-toggleable__label sk-toggleable__label-arrow\">GradientBoostingClassifier</label><div class=\"sk-toggleable__content\"><pre>GradientBoostingClassifier()</pre></div></div></div></div></div>"
      ],
      "text/plain": [
       "GradientBoostingClassifier()"
      ]
     },
     "execution_count": 30,
     "metadata": {},
     "output_type": "execute_result"
    }
   ],
   "source": [
    "lrnr.fit(X,y)"
   ]
  },
  {
   "cell_type": "markdown",
   "id": "a19db8af-c1ea-466c-955a-126fc63d69a9",
   "metadata": {},
   "source": [
    "`-` step4: evaluate"
   ]
  },
  {
   "cell_type": "code",
   "execution_count": 31,
   "id": "a3bb8701-ba5b-44ae-968a-a0775294aaae",
   "metadata": {},
   "outputs": [],
   "source": [
    "# thresh = y.mean()\n",
    "# yyhat = (lrnr.predict_proba(XX)> thresh)[:,-1]\n",
    "yyhat = lrnr.predict(XX) "
   ]
  },
  {
   "cell_type": "code",
   "execution_count": 32,
   "id": "feafec21-28c1-4843-a023-b85eef8dc6a9",
   "metadata": {},
   "outputs": [],
   "source": [
    "metrics = [sklearn.metrics.accuracy_score,\n",
    "           sklearn.metrics.precision_score,\n",
    "           sklearn.metrics.recall_score,\n",
    "           sklearn.metrics.f1_score]"
   ]
  },
  {
   "cell_type": "code",
   "execution_count": 33,
   "id": "a4aa733e-730e-40bf-9e09-c4a5266b9ee9",
   "metadata": {},
   "outputs": [
    {
     "data": {
      "text/html": [
       "<div>\n",
       "<style scoped>\n",
       "    .dataframe tbody tr th:only-of-type {\n",
       "        vertical-align: middle;\n",
       "    }\n",
       "\n",
       "    .dataframe tbody tr th {\n",
       "        vertical-align: top;\n",
       "    }\n",
       "\n",
       "    .dataframe thead th {\n",
       "        text-align: right;\n",
       "    }\n",
       "</style>\n",
       "<table border=\"1\" class=\"dataframe\">\n",
       "  <thead>\n",
       "    <tr style=\"text-align: right;\">\n",
       "      <th></th>\n",
       "      <th>accuracy_score</th>\n",
       "      <th>precision_score</th>\n",
       "      <th>recall_score</th>\n",
       "      <th>f1_score</th>\n",
       "    </tr>\n",
       "  </thead>\n",
       "  <tbody>\n",
       "    <tr>\n",
       "      <th>분석3</th>\n",
       "      <td>0.53047</td>\n",
       "      <td>0.908397</td>\n",
       "      <td>0.078444</td>\n",
       "      <td>0.144417</td>\n",
       "    </tr>\n",
       "  </tbody>\n",
       "</table>\n",
       "</div>"
      ],
      "text/plain": [
       "     accuracy_score  precision_score  recall_score  f1_score\n",
       "분석3         0.53047         0.908397      0.078444  0.144417"
      ]
     },
     "execution_count": 33,
     "metadata": {},
     "output_type": "execute_result"
    }
   ],
   "source": [
    "_results3= pd.DataFrame({m.__name__:[m(yy,yyhat).round(6)] for m in metrics},index=['분석3'])\n",
    "_results3"
   ]
  },
  {
   "cell_type": "code",
   "execution_count": null,
   "id": "ef04b92a-c5a8-4a8e-b172-57191eaa3d7b",
   "metadata": {},
   "outputs": [],
   "source": []
  }
 ],
 "metadata": {
  "kernelspec": {
   "display_name": "Python 3 (ipykernel)",
   "language": "python",
   "name": "python3"
  },
  "language_info": {
   "codemirror_mode": {
    "name": "ipython",
    "version": 3
   },
   "file_extension": ".py",
   "mimetype": "text/x-python",
   "name": "python",
   "nbconvert_exporter": "python",
   "pygments_lexer": "ipython3",
   "version": "3.8.16"
  }
 },
 "nbformat": 4,
 "nbformat_minor": 5
}
