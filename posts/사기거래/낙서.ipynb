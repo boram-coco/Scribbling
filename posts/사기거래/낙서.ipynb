{
 "cells": [
  {
   "cell_type": "code",
   "execution_count": null,
   "id": "5ecc8698-fd2e-4916-b3d3-afe6da480fc7",
   "metadata": {},
   "outputs": [],
   "source": []
  },
  {
   "cell_type": "code",
   "execution_count": 1,
   "id": "3c1b4a03-c633-442c-8ea0-786475094871",
   "metadata": {},
   "outputs": [
    {
     "name": "stdout",
     "output_type": "stream",
     "text": [
      "[[1.00000000e+00 6.73794700e-03 4.53999298e-05 3.05902321e-07\n",
      "  2.06115362e-09]\n",
      " [6.73794700e-03 1.00000000e+00 6.73794700e-03 4.53999298e-05\n",
      "  3.05902321e-07]\n",
      " [4.53999298e-05 6.73794700e-03 1.00000000e+00 6.73794700e-03\n",
      "  4.53999298e-05]\n",
      " [3.05902321e-07 4.53999298e-05 6.73794700e-03 1.00000000e+00\n",
      "  6.73794700e-03]\n",
      " [2.06115362e-09 3.05902321e-07 4.53999298e-05 6.73794700e-03\n",
      "  1.00000000e+00]]\n"
     ]
    }
   ],
   "source": [
    "import numpy as np\n",
    "\n",
    "# 구한 행렬\n",
    "matrix = np.array([[0, 5, 10, 15, 20],\n",
    "                   [5, 0, 5, 10, 15],\n",
    "                   [10, 5, 0, 5, 10],\n",
    "                   [15, 10, 5, 0, 5],\n",
    "                   [20, 15, 10, 5, 0]])\n",
    "\n",
    "# exp(-a_ij) 계산\n",
    "result = np.exp(-matrix)\n",
    "\n",
    "# 결과 확인\n",
    "print(result)\n"
   ]
  },
  {
   "cell_type": "code",
   "execution_count": 4,
   "id": "7e3f81f8-19f2-4b35-b27a-65a3cd5b38a5",
   "metadata": {},
   "outputs": [
    {
     "name": "stdout",
     "output_type": "stream",
     "text": [
      "[[1.00000000e+00 2.45592422e-03 0.00000000e+00 6.75079804e+07\n",
      "  4.85165195e+08]\n",
      " [2.45592422e-03 1.00000000e+00 6.62778420e-06 1.16270342e+08\n",
      "  6.75079804e+07]\n",
      " [0.00000000e+00 6.62778420e-06 1.00000000e+00 6.62778420e-06\n",
      "  0.00000000e+00]\n",
      " [6.75079804e+07 1.16270342e+08 6.62778420e-06 1.00000000e+00\n",
      "  2.45592422e-03]\n",
      " [4.85165195e+08 6.75079804e+07 0.00000000e+00 2.45592422e-03\n",
      "  1.00000000e+00]]\n"
     ]
    },
    {
     "name": "stderr",
     "output_type": "stream",
     "text": [
      "/tmp/ipykernel_3252510/2210747788.py:14: RuntimeWarning: divide by zero encountered in true_divide\n",
      "  result = matrix / corr_matrix\n"
     ]
    }
   ],
   "source": [
    "import numpy as np\n",
    "\n",
    "# 구한 행렬\n",
    "matrix = np.array([[0, 5, 10, 15, 20],\n",
    "                   [5, 0, 5, 10, 15],\n",
    "                   [10, 5, 0, 5, 10],\n",
    "                   [15, 10, 5, 0, 5],\n",
    "                   [20, 15, 10, 5, 0]])\n",
    "\n",
    "# 행렬의 상관 계수 행렬 구하기\n",
    "corr_matrix = np.corrcoef(matrix)\n",
    "\n",
    "# 각 행렬의 값을 corr로 나누기\n",
    "result = matrix / corr_matrix\n",
    "result = np.exp(-result)\n",
    "# 결과 확인\n",
    "print(result)\n"
   ]
  },
  {
   "cell_type": "code",
   "execution_count": 5,
   "id": "cb3ad957-df23-457f-ae23-dae6e0bf16f5",
   "metadata": {},
   "outputs": [
    {
     "name": "stdout",
     "output_type": "stream",
     "text": [
      "[[1.4]\n",
      " [3.2]\n",
      " [5. ]\n",
      " [6.8]\n",
      " [8.6]]\n"
     ]
    }
   ],
   "source": [
    "import numpy as np\n",
    "\n",
    "# 데이터 준비\n",
    "x = np.array([[1, 2, 3],\n",
    "              [4, 5, 6],\n",
    "              [7, 8, 9],\n",
    "              [10, 11, 12],\n",
    "              [13, 14, 15]])\n",
    "\n",
    "W = np.array([[0.1],\n",
    "              [0.2],\n",
    "              [0.3]])\n",
    "\n",
    "# 예측 모델 구성\n",
    "y = np.dot(x, W)\n",
    "\n",
    "# 결과 출력\n",
    "print(y)"
   ]
  },
  {
   "cell_type": "code",
   "execution_count": null,
   "id": "75059f33-ea98-40f6-b6cc-3ea871a7360f",
   "metadata": {},
   "outputs": [],
   "source": []
  }
 ],
 "metadata": {
  "kernelspec": {
   "display_name": "Python 3 (ipykernel)",
   "language": "python",
   "name": "python3"
  },
  "language_info": {
   "codemirror_mode": {
    "name": "ipython",
    "version": 3
   },
   "file_extension": ".py",
   "mimetype": "text/x-python",
   "name": "python",
   "nbconvert_exporter": "python",
   "pygments_lexer": "ipython3",
   "version": "3.8.16"
  }
 },
 "nbformat": 4,
 "nbformat_minor": 5
}
