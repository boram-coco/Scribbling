{
 "cells": [
  {
   "cell_type": "markdown",
   "id": "3f0c6118-8c3b-4ff6-9a08-f1d2a740b744",
   "metadata": {},
   "source": [
    "# A review of synthetic data generation strategies using deep neural networks\n"
   ]
  },
  {
   "cell_type": "markdown",
   "id": "a603009d-3143-47a8-880c-2531160c05aa",
   "metadata": {},
   "source": [
    "유용성과 노출 위험성 지표를 이용한 재현자료 기법 비교 연구\n",
    "\n",
    "김지우, 권성훈, 김동하 (성신여자대학교 통계학과)"
   ]
  },
  {
   "cell_type": "code",
   "execution_count": null,
   "id": "2c292c45-6881-463d-b652-7a7cdd03b713",
   "metadata": {},
   "outputs": [],
   "source": []
  }
 ],
 "metadata": {
  "kernelspec": {
   "display_name": "Python 3",
   "language": "python",
   "name": "python3"
  },
  "language_info": {
   "codemirror_mode": {
    "name": "ipython",
    "version": 3
   },
   "file_extension": ".py",
   "mimetype": "text/x-python",
   "name": "python",
   "nbconvert_exporter": "python",
   "pygments_lexer": "ipython3",
   "version": "3.8.16"
  }
 },
 "nbformat": 4,
 "nbformat_minor": 5
}
