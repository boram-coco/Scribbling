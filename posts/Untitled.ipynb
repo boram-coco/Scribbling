{
 "cells": [
  {
   "cell_type": "markdown",
   "id": "abd3db15-3181-4d24-8768-d08400b64a1f",
   "metadata": {},
   "source": [
    "논문"
   ]
  },
  {
   "cell_type": "markdown",
   "id": "b6f66c82-0334-4602-9869-4d7c7429c005",
   "metadata": {},
   "source": [
    "[Xia, F., Sun, K., Yu, S., Aziz, A., Wan, L., Pan, S., & Liu, H. (2021). Graph learning: A survey. IEEE Transactions on Artificial Intelligence, 2(2), 109-127.](https://ieeexplore.ieee.org/stamp/stamp.jsp?arnumber=9416834)"
   ]
  },
  {
   "cell_type": "markdown",
   "id": "f80ec908-9ae8-4e10-b4f7-145de13113f8",
   "metadata": {},
   "source": [
    "[Nickel, M., Murphy, K., Tresp, V., & Gabrilovich, E. (2015). A review of relational machine learning for knowledge graphs. Proceedings of the IEEE, 104(1), 11-33.](https://ieeexplore.ieee.org/stamp/stamp.jsp?arnumber=7358050)"
   ]
  },
  {
   "cell_type": "markdown",
   "id": "ecb5be45-73d7-4343-a4cb-cb986dd0f704",
   "metadata": {},
   "source": [
    "[Yang, Z., Cohen, W., & Salakhudinov, R. (2016, June). Revisiting semi-supervised learning with graph embeddings. In International conference on machine learning (pp. 40-48). PMLR.](http://proceedings.mlr.press/v48/yanga16.pdf)"
   ]
  },
  {
   "cell_type": "code",
   "execution_count": null,
   "id": "90b11e45-e726-4803-95a7-59639006f037",
   "metadata": {},
   "outputs": [],
   "source": []
  }
 ],
 "metadata": {
  "kernelspec": {
   "display_name": "Python 3 (ipykernel)",
   "language": "python",
   "name": "python3"
  },
  "language_info": {
   "codemirror_mode": {
    "name": "ipython",
    "version": 3
   },
   "file_extension": ".py",
   "mimetype": "text/x-python",
   "name": "python",
   "nbconvert_exporter": "python",
   "pygments_lexer": "ipython3",
   "version": "3.8.16"
  }
 },
 "nbformat": 4,
 "nbformat_minor": 5
}
