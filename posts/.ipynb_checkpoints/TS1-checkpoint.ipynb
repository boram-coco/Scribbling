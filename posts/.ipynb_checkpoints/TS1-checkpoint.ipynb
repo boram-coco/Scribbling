{
 "cells": [
  {
   "cell_type": "raw",
   "id": "f7cbd7c8-a541-496e-b266-0c3719d82440",
   "metadata": {},
   "source": [
    "---\n",
    "title: \"TS01\"\n",
    "author: \"김보람\"\n",
    "date: \"03/15/2023\"\n",
    "categories:\n",
    "  - TS\n",
    "---"
   ]
  },
  {
   "cell_type": "markdown",
   "id": "a7691c57-2871-42f9-977e-65c6f7821287",
   "metadata": {},
   "source": [
    "\n",
    "\n",
    "1. $P\\left( A_{1}\\cap A_{2}\\cap A_{3}\\right) >0$ 일 때 다음을 증명하시오.\n",
    "\n",
    "$\\begin{aligned}P\\left( A_{1}\\cap A_{2}\\cap A_{3}\\cap A_{4}\\right) =P\\left( A_{1}\\right) P\\left( A_{2}| A_{1}\\right) P\\left( A_{3}| A_{1}\\cap A_{2}\\right)P\\left( A_{4}| A_{1}\\cap A_{2}\\cap A_{3}\\right) \\end{aligned}$"
   ]
  },
  {
   "cell_type": "code",
   "execution_count": null,
   "id": "1e2111fe-a28a-4d25-a501-a1d1bb8a3c6f",
   "metadata": {},
   "outputs": [],
   "source": []
  },
  {
   "cell_type": "code",
   "execution_count": null,
   "id": "ce35e0f5-ee64-48ce-94c6-c71a43036cf4",
   "metadata": {},
   "outputs": [],
   "source": []
  },
  {
   "cell_type": "code",
   "execution_count": null,
   "id": "aae5b73c-9017-41f6-bbf3-600802aa2030",
   "metadata": {},
   "outputs": [],
   "source": []
  },
  {
   "cell_type": "code",
   "execution_count": null,
   "id": "fa8eb46b-2afd-4cf0-a838-537b0dd906d7",
   "metadata": {},
   "outputs": [],
   "source": []
  },
  {
   "cell_type": "markdown",
   "id": "86635ecf-77c9-4116-9828-2e304751f563",
   "metadata": {},
   "source": [
    "2. $A_{1}$과 $A_{2}$가 서로 독립사건일 때 다음 사건들도 독립임을 보이시오.\n",
    "\n",
    "(1) $A_{1}$과 $A_{2}^{c}$\n",
    "\n",
    "(2) $A_{1}^{c}$과 $A_{2}$\n",
    "\n",
    "(3) $A_{1}^{c}$과 $A_{2}^{c}$"
   ]
  },
  {
   "cell_type": "code",
   "execution_count": null,
   "id": "44dfbdca-cecf-44ef-bfb0-f622f958295a",
   "metadata": {},
   "outputs": [],
   "source": []
  },
  {
   "cell_type": "code",
   "execution_count": null,
   "id": "ce0c3d59-d394-4a08-9e36-7fe6516eb884",
   "metadata": {},
   "outputs": [],
   "source": []
  },
  {
   "cell_type": "code",
   "execution_count": null,
   "id": "82aec47d-84cd-4a03-9ceb-439f103a0a7e",
   "metadata": {},
   "outputs": [],
   "source": []
  },
  {
   "cell_type": "markdown",
   "id": "76e1305b-cf46-41e3-aa44-7f88859fc6cf",
   "metadata": {},
   "source": [
    "3. $A_{1}$과 $A_{2}$ 가 서로 독립사건이며 $P(A_{1}) = 0.6$ , $P(A_{2}) = 0.3$ 이라 하자. 다음을 계산하시오.\n",
    "\n",
    "(1) $P(A_{1} \\cap A_{2})$\n",
    "\n",
    "(2) $P\\left( A_{1}\\cup A_{2}\\right)$\n",
    "\n",
    "(3) $P(A_{1} \\cup A_{2}^{c})$"
   ]
  },
  {
   "cell_type": "code",
   "execution_count": null,
   "id": "d6c9857b-ea2c-45e9-9641-3d8c360ed72e",
   "metadata": {},
   "outputs": [],
   "source": []
  },
  {
   "cell_type": "code",
   "execution_count": null,
   "id": "ea93c0c1-83b0-42df-905b-e5a01d420ace",
   "metadata": {},
   "outputs": [],
   "source": []
  },
  {
   "cell_type": "code",
   "execution_count": null,
   "id": "2880ea9c-c871-46ba-8aed-56389d3085c9",
   "metadata": {},
   "outputs": [],
   "source": []
  },
  {
   "cell_type": "markdown",
   "id": "25d8139f-3258-452f-a711-c30236c569f0",
   "metadata": {},
   "source": [
    "4. 트럼프 카드 한 벌에서 한 장의 카드를 선택한다고 하자. 관측값 $c$ 는 카드 52장 중 하나이다. 만약 $c$가 에이스이면 $X(c) = 4$ , $c$가 킹이면 $X(c) = 3$이라 하고, $c$가 퀸이면 $X(c) = 2$, $c$가 잭이면 $X(c) = 1$, 그 외에는 $X(c) = 0$이라 하자. $P$가 각각의 관측값 $c$에 확률  $\\dfrac{1}{52}$를 부여한다고 하자. 확률변수 $X$ 값의 확률밀도함수를 구하시오."
   ]
  },
  {
   "cell_type": "code",
   "execution_count": null,
   "id": "bdf720fc-3dc1-4b1c-a876-d28abac6746c",
   "metadata": {},
   "outputs": [],
   "source": []
  },
  {
   "cell_type": "code",
   "execution_count": null,
   "id": "56519089-36c4-420e-a0bf-54ac65bba38e",
   "metadata": {},
   "outputs": [],
   "source": []
  },
  {
   "cell_type": "code",
   "execution_count": null,
   "id": "958dd6d8-0521-4334-a62c-a0e7e1328352",
   "metadata": {},
   "outputs": [],
   "source": []
  },
  {
   "cell_type": "markdown",
   "id": "7d3dff9e-79ae-4359-b064-acddfe557b1f",
   "metadata": {},
   "source": [
    "5. 다음 각 $f\\left( x\\right)$에 대하여 확률밀도함수가 되기위한 상수 $c$를 구하시오.\n",
    "\n",
    "(1) $f\\left( x\\right) = c( \\dfrac{2}{3})$ $ I\\left( x\\in \\left\\{ 0,1,2,\\ldots \\right\\} \\right)$\n",
    "\n",
    "(2) $ f(x) = cx $ $ I\\left( x\\in \\left\\{ 1,2,3,4,5,6 \\right\\} \\right)$"
   ]
  },
  {
   "cell_type": "code",
   "execution_count": null,
   "id": "d9f2b6be-23b6-4864-b009-14f72b5a0b13",
   "metadata": {},
   "outputs": [],
   "source": []
  },
  {
   "cell_type": "code",
   "execution_count": null,
   "id": "6da01425-4f31-4417-81c4-01c3241e7f90",
   "metadata": {},
   "outputs": [],
   "source": []
  },
  {
   "cell_type": "code",
   "execution_count": null,
   "id": "c38a08e1-0999-4014-b8c4-3b241843dcd2",
   "metadata": {},
   "outputs": [],
   "source": []
  },
  {
   "cell_type": "markdown",
   "id": "7957b160-6fdc-42a3-9353-fbdbe139964a",
   "metadata": {},
   "source": [
    "6. 세 개의 상자에는 각각 $1,2,3,4$가 적혀있는 네 장의 카드가 들어 있다. 각 상자에서 임의로 카드를 한 장씩 선택하여 $X$와 $Y$를 다음과 같이 정의할 때, $X$와 $Y$의 결합확률분포를 구하시오.\n",
    "$X$ = 세 장의 카드 중 가장 작은 값, $Y$ = 세 장의 카드 중 가장 큰 값"
   ]
  },
  {
   "cell_type": "code",
   "execution_count": null,
   "id": "2c5c7c5a-072b-4dfb-ba65-9730a7b5e85f",
   "metadata": {},
   "outputs": [],
   "source": []
  },
  {
   "cell_type": "code",
   "execution_count": null,
   "id": "5b89d461-1da4-4376-9191-2190181a7039",
   "metadata": {},
   "outputs": [],
   "source": []
  },
  {
   "cell_type": "code",
   "execution_count": null,
   "id": "1af3ae94-bcf2-4057-b4d0-3de8e2c706f1",
   "metadata": {},
   "outputs": [],
   "source": []
  },
  {
   "cell_type": "markdown",
   "id": "b79b5e58-87a2-4eab-9a65-6cec1c65bca4",
   "metadata": {},
   "source": [
    "7. 두 확률변수 $X_{1}$과 $X_{2}$의 결합확률밀도함수가 $f(x_{1},x_{2}) = 4x_{1} x_{2}  I( 0 <x_{1} <1,0 <x_{2} < 1) $ 일 때 다음 확률을 구하시오.\n",
    "\n",
    "(1) $ P(0 < X_{1} < \\dfrac{1}{2}, \\dfrac{1}{4} < X_{2} < 1) $\n",
    "\n",
    "(2) $ P(X_{1} = X_{2})$\n",
    "\n",
    "(3) $ P(X_{1} < X_{2}) $\n",
    "\n",
    "(4) $ P( X_{1}\\leq X_{2}) $"
   ]
  },
  {
   "cell_type": "code",
   "execution_count": null,
   "id": "a9b44f54-1ef5-4fe1-afad-4e9e476b63bd",
   "metadata": {},
   "outputs": [],
   "source": []
  }
 ],
 "metadata": {
  "kernelspec": {
   "display_name": "Python 3",
   "language": "python",
   "name": "python3"
  },
  "language_info": {
   "codemirror_mode": {
    "name": "ipython",
    "version": 3
   },
   "file_extension": ".py",
   "mimetype": "text/x-python",
   "name": "python",
   "nbconvert_exporter": "python",
   "pygments_lexer": "ipython3",
   "version": "3.8.16"
  }
 },
 "nbformat": 4,
 "nbformat_minor": 5
}
